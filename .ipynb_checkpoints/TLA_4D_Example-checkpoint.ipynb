{
 "cells": [
  {
   "cell_type": "markdown",
   "metadata": {},
   "source": [
    "In this notebook, we will run a ready-made network starting from some ATLAS data, which is already normalized. There is also an alternative to train the network from scratch.  "
   ]
  },
  {
   "cell_type": "markdown",
   "metadata": {},
   "source": [
    "## Look into the dataset"
   ]
  },
  {
   "cell_type": "markdown",
   "metadata": {},
   "source": [
    "First we need to make sure that Python 3.8 is used in the notebook. It is required in order to open this certain .pkl-file. "
   ]
  },
  {
   "cell_type": "code",
   "execution_count": 1,
   "metadata": {},
   "outputs": [
    {
     "data": {
      "text/plain": [
       "'3.8.5 (default, Jul 28 2020, 12:59:40) \\n[GCC 9.3.0]'"
      ]
     },
     "execution_count": 1,
     "metadata": {},
     "output_type": "execute_result"
    }
   ],
   "source": [
    "import sys\n",
    "sys.version"
   ]
  },
  {
   "cell_type": "code",
   "execution_count": 88,
   "metadata": {},
   "outputs": [],
   "source": [
    "### Preprocess data, Shuffle events, 80-20 train-test split, write to pkl ###\n",
    "import pandas\n",
    "import math\n",
    "\n",
    "#loading csv in list form for manipulation (not loading first column of IDs and event weights\n",
    "data = []\n",
    "with open('/mnt/c/Users/LENOVO/Desktop/monojet_Zp2000.0_DM_50.0_chan3.csv',\"r\") as file:\n",
    "    for line in file.readlines():\n",
    "        data.append(line.split(',')[1:]) \n",
    "\n",
    "temp_row =[]   \n",
    "processed_data =[]   \n",
    "\n",
    "#traverse dataframe element by element (without the first column, containing ID information and event weights)\n",
    "#append each set of four element to a new row if it represents a jet (b-jet not considered)\n",
    "##ASSUMES set of data contains a ';' upon every set of 4 elements in a row\n",
    "for event in data:\n",
    "    for momentum_param in event:\n",
    "        temp_row.append(momentum_param)    #append each momentum parameter until\n",
    "        if ';' in str(momentum_param):     #it is seen to contain a ';', if it has, then\n",
    "            object_id = str(momentum_param).split(';')[1]\n",
    "            value = str(momentum_param).split(';')[0]\n",
    "            if object_id == 'j':           #check if it is a jet (b-jet not considered)\n",
    "                temp_row[3] = float(value)/3\n",
    "                temp_row[0] = math.log10(float(temp_row[0]))     #normalisation done by comparison with unnormalisation in this notebook\n",
    "                temp_row[1] = math.log10(float(temp_row[1]))\n",
    "                temp_row[2] = float(temp_row[2])/5 \n",
    "                #print(temp_row)\n",
    "                processed_data.append(temp_row)   #append row of four-momentum of jet as part of new processed data\n",
    "                temp_row =[]\n",
    "            else:\n",
    "                temp_row =[]   #clear four-momentum collected if not a jet\n",
    "#print(processed_data)\n",
    "#the processed data now contains just 4 columns each row representing four-momentum of a jet\n",
    "#converting to dataframe\n",
    "df = pandas.DataFrame(processed_data, columns=['E','pt','eta','phi'])\n",
    "\n",
    "\n",
    "#Split processed data into 80% and 20% sets for train and test respectively and write out as pkl files\n",
    "def split8020(dataframe, path_outcsv1, path_outcsv2):\n",
    "    percent80 = int(len(dataframe)*8/10)\n",
    "    df_80 = dataframe.loc[:percent80]\n",
    "    df_20 = dataframe.loc[percent80:]\n",
    "    df_80.to_pickle(path_outcsv1)\n",
    "    df_20.to_pickle(path_outcsv2)\n",
    "\n",
    "#change csv location and path to the two output 'pkl's    \n",
    "split8020(df,'/mnt/c/Users/LENOVO/Desktop/monojet_Zp2000.0_DM_50.0_chan3_80.pkl','/mnt/c/Users/LENOVO/Desktop/monojet_Zp2000.0_DM_50.0_chan3_20.pkl')"
   ]
  },
  {
   "cell_type": "markdown",
   "metadata": {},
   "source": [
    "We take a pickle dataset, and open into Pandas (after importing pandas). Note that you have to change the paths to the directory where your processed files are. "
   ]
  },
  {
   "cell_type": "code",
   "execution_count": 90,
   "metadata": {},
   "outputs": [
    {
     "name": "stdout",
     "output_type": "stream",
     "text": [
      "Training sample:\n",
      "          E        pt       eta       phi\n",
      "0  5.976526  5.916190 -0.104621  0.548070\n",
      "1  5.412833  5.386811  0.065792  0.750047\n",
      "2  5.716080  5.035790 -0.449460 -0.618930\n",
      "3  5.583226  4.946480  0.429032 -0.652117\n",
      "4  4.596681  4.548575  0.094092 -0.388150\n",
      "\n",
      "\n",
      "Testing sample:\n",
      "              E        pt       eta       phi\n",
      "13167  5.264320  5.159188 -0.142921 -0.546207\n",
      "13168  5.661640  5.519049 -0.168007  0.299902\n",
      "13169  5.538688  5.423524 -0.150432 -0.554387\n",
      "13170  5.115348  4.494306  0.421510  0.691977\n",
      "13171  6.322223  5.647575 -0.447008  0.143877\n",
      "\n",
      "\n",
      "The number of entries in the training data: 13168\n",
      "The number of entries in the validation data: 3292\n"
     ]
    }
   ],
   "source": [
    "import pandas as pd\n",
    "\n",
    "# Change these paths to point to where you have stored the datasets. \n",
    "train_path = '/mnt/c/Users/LENOVO/Desktop/monojet_Zp2000.0_DM_50.0_chan3_80.pkl'\n",
    "test_path = '/mnt/c/Users/LENOVO/Desktop/monojet_Zp2000.0_DM_50.0_chan3_20.pkl'\n",
    "\n",
    "# Reads the .pkl-files with Pandas\n",
    "train = pd.read_pickle(train_path)\n",
    "test = pd.read_pickle(test_path)\n",
    "\n",
    "# To get an idea of the order of magnitude we are going to see in the plots we show the first elements \n",
    "# in the samples:\n",
    "print('Training sample:')\n",
    "print(train.head())\n",
    "\n",
    "print('\\n')\n",
    "\n",
    "print('Testing sample:')\n",
    "print(test.head())\n",
    "\n",
    "print('\\n')\n",
    "\n",
    "print('The number of entries in the training data:', len(train))\n",
    "print('The number of entries in the validation data:', len(test))"
   ]
  },
  {
   "cell_type": "markdown",
   "metadata": {},
   "source": [
    "Now we plot the data using the matplotlib library. The units reflect the normalization, but it's the shape that we care about. "
   ]
  },
  {
   "cell_type": "code",
   "execution_count": 91,
   "metadata": {},
   "outputs": [
    {
     "data": {
      "image/png": "[encoded data removed]",
      "text/plain": [
       "<Figure size 432x288 with 1 Axes>"
      ]
     },
     "metadata": {
      "needs_background": "light"
     },
     "output_type": "display_data"
    },
    {
     "data": {
      "image/png": "[encoded data removed]",
      "text/plain": [
       "<Figure size 432x288 with 1 Axes>"
      ]
     },
     "metadata": {
      "needs_background": "light"
     },
     "output_type": "display_data"
    },
    {
     "data": {
      "image/png": "[encoded data removed]",
      "text/plain": [
       "<Figure size 432x288 with 1 Axes>"
      ]
     },
     "metadata": {
      "needs_background": "light"
     },
     "output_type": "display_data"
    },
    {
     "data": {
      "image/png": "[encoded data removed]",
      "text/plain": [
       "<Figure size 432x288 with 1 Axes>"
      ]
     },
     "metadata": {
      "needs_background": "light"
     },
     "output_type": "display_data"
    }
   ],
   "source": [
    "import matplotlib.pyplot as plt\n",
    "\n",
    "unit_list = ['[log(GeV)]', '[log(GeV)]', '[rad/3]', '[rad/3]']\n",
    "variable_list = [r'$E$', r'$p_T$', r'$\\eta$', r'$\\phi$']\n",
    "\n",
    "branches=[\"E\",\"pt\",\"eta\",\"phi\"]\n",
    "\n",
    "n_bins = 100\n",
    "\n",
    "for kk in range(0,4):\n",
    "    n_hist_data, bin_edges, _ = plt.hist(train[branches[kk]], color='gray', label='Input', alpha=1, bins=n_bins)\n",
    "    plt.xlabel(xlabel=variable_list[kk] + ' ' + unit_list[kk])\n",
    "    plt.ylabel('# of events')\n",
    "    #plt.savefig(\"fourmomentum_\"+branches[kk],dpi=300)\n",
    "    plt.show()"
   ]
  },
  {
   "cell_type": "markdown",
   "metadata": {},
   "source": [
    "## Setting up the network"
   ]
  },
  {
   "cell_type": "markdown",
   "metadata": {},
   "source": [
    "### Preparing the data"
   ]
  },
  {
   "cell_type": "markdown",
   "metadata": {},
   "source": [
    "Adding the two datasets as TensorDatasets to PyTorch (also loading all other classes we'll need later)"
   ]
  },
  {
   "cell_type": "code",
   "execution_count": 92,
   "metadata": {},
   "outputs": [],
   "source": [
    "import torch\n",
    "import torch.nn as nn\n",
    "import torch.optim as optim\n",
    "import torch.utils.data\n",
    "from torch.autograd import Variable\n",
    "\n",
    "from torch.utils.data import TensorDataset\n",
    "from torch.utils.data import DataLoader\n",
    "\n",
    "from fastai import learner\n",
    "from fastai.data import core\n",
    "\n",
    "train_x = train\n",
    "test_x = test\n",
    "train_y = train_x  # y = x since we are building an autoencoder\n",
    "test_y = test_x\n",
    "\n",
    "# Constructs a tensor object of the data and wraps them in a TensorDataset object.\n",
    "train_ds = TensorDataset(torch.tensor(train_x.values, dtype=torch.float), torch.tensor(train_y.values, dtype=torch.float))\n",
    "valid_ds = TensorDataset(torch.tensor(test_x.values, dtype=torch.float), torch.tensor(test_y.values, dtype=torch.float))"
   ]
  },
  {
   "cell_type": "markdown",
   "metadata": {},
   "source": [
    "We now set things up to load the data, and we use a batch size that was optimized by previous students...note also that this is fastai v2, migration thanks to Jessica Lastow."
   ]
  },
  {
   "cell_type": "code",
   "execution_count": 93,
   "metadata": {},
   "outputs": [],
   "source": [
    "bs = 256\n",
    "\n",
    "# Converts the TensorDataset into a DataLoader object and combines into one DataLoaders object (a basic wrapper\n",
    "# around several DataLoader objects). \n",
    "train_dl = DataLoader(train_ds, batch_size=bs, shuffle=True)\n",
    "valid_dl = DataLoader(valid_ds, batch_size=bs * 2)\n",
    "dls = core.DataLoaders(train_dl, valid_dl)"
   ]
  },
  {
   "cell_type": "markdown",
   "metadata": {},
   "source": [
    "### Preparing the network"
   ]
  },
  {
   "cell_type": "markdown",
   "metadata": {},
   "source": [
    "Here we have an example network. Details aren't too important, as long as they match what was already trained for us...in this case we have a LeakyReLU, tanh activation function, and a number of layers that goes from 4 to 200 to 20 to 3 (number of features in the hidden layer that we pick for testing compression) and then back all the way to 4. "
   ]
  },
  {
   "cell_type": "code",
   "execution_count": 94,
   "metadata": {},
   "outputs": [
    {
     "data": {
      "text/plain": [
       "AE_3D_200_LeakyReLU(\n",
       "  (en1): Linear(in_features=4, out_features=200, bias=True)\n",
       "  (en2): Linear(in_features=200, out_features=200, bias=True)\n",
       "  (en3): Linear(in_features=200, out_features=20, bias=True)\n",
       "  (en4): Linear(in_features=20, out_features=3, bias=True)\n",
       "  (de1): Linear(in_features=3, out_features=20, bias=True)\n",
       "  (de2): Linear(in_features=20, out_features=200, bias=True)\n",
       "  (de3): Linear(in_features=200, out_features=200, bias=True)\n",
       "  (de4): Linear(in_features=200, out_features=4, bias=True)\n",
       "  (tanh): Tanh()\n",
       ")"
      ]
     },
     "execution_count": 94,
     "metadata": {},
     "output_type": "execute_result"
    }
   ],
   "source": [
    "class AE_3D_200_LeakyReLU(nn.Module):\n",
    "    def __init__(self, n_features=4):\n",
    "        super(AE_3D_200_LeakyReLU, self).__init__()\n",
    "        self.en1 = nn.Linear(n_features, 200)\n",
    "        self.en2 = nn.Linear(200, 200)\n",
    "        self.en3 = nn.Linear(200, 20)\n",
    "        self.en4 = nn.Linear(20, 3)\n",
    "        self.de1 = nn.Linear(3, 20)\n",
    "        self.de2 = nn.Linear(20, 200)\n",
    "        self.de3 = nn.Linear(200, 200)\n",
    "        self.de4 = nn.Linear(200, n_features)\n",
    "        self.tanh = nn.Tanh()\n",
    "\n",
    "    def encode(self, x):\n",
    "        return self.en4(self.tanh(self.en3(self.tanh(self.en2(self.tanh(self.en1(x)))))))\n",
    "\n",
    "    def decode(self, x):\n",
    "        return self.de4(self.tanh(self.de3(self.tanh(self.de2(self.tanh(self.de1(self.tanh(x))))))))\n",
    "\n",
    "    def forward(self, x):\n",
    "        z = self.encode(x)\n",
    "        return self.decode(z)\n",
    "\n",
    "    def describe(self):\n",
    "        return 'in-200-200-20-3-20-200-200-out'\n",
    "\n",
    "#model = AE_3D_200_LeakyReLU().double()\n",
    "model = AE_3D_200_LeakyReLU()\n",
    "model.to('cpu')"
   ]
  },
  {
   "cell_type": "markdown",
   "metadata": {},
   "source": [
    "We now have to pick a loss function - MSE loss is appropriate for a compression autoencoder since it reflects the [(input-output)/input] physical quantity that we want to minimize. "
   ]
  },
  {
   "cell_type": "code",
   "execution_count": 95,
   "metadata": {},
   "outputs": [],
   "source": [
    "from fastai.metrics import mse\n",
    "\n",
    "loss_func = nn.MSELoss()\n",
    "\n",
    "#bn_wd = False  # Don't use weight decay for batchnorm layers\n",
    "#true_wd = True  # weight decay will be used for all optimizers\n",
    "wd = 1e-6\n",
    "\n",
    "recorder = learner.Recorder()\n",
    "learn = learner.Learner(dls, model=model, wd=wd, loss_func=loss_func, cbs=recorder)\n",
    "#was: learn = basic_train.Learner(data=db, model=model, loss_func=loss_func, wd=wd, callback_fns=ActivationStats, bn_wd=bn_wd, true_wd=true_wd)"
   ]
  },
  {
   "cell_type": "markdown",
   "metadata": {},
   "source": [
    "## Training a new network"
   ]
  },
  {
   "cell_type": "markdown",
   "metadata": {},
   "source": [
    "Instead of using a pre-trained network, an alternative is to train a new network and use that instead. "
   ]
  },
  {
   "cell_type": "markdown",
   "metadata": {},
   "source": [
    "First, we want to find the best learning rate. The learning rate is a hyper-paramater that sets how much the weights of the network will change each step with respect to the loss gradient.\n",
    "\n",
    "Then we plot the loss versus the learning rates. We're interested in finding a good order of magnitude of learning rate, so we plot with a log scale.\n",
    "\n",
    "A good value for the learning rates is then either:\n",
    "- one tenth of the minimum before the divergence\n",
    "- when the slope is the steepest"
   ]
  },
  {
   "cell_type": "code",
   "execution_count": 98,
   "metadata": {},
   "outputs": [
    {
     "name": "stdout",
     "output_type": "stream",
     "text": [
      "Learning rate with the minimum loss: 0.012022644281387329\n",
      "Learning rate with the steepest gradient: 0.0020892962347716093\n"
     ]
    },
    {
     "data": {
      "image/png": "[encoded data removed]",
      "text/plain": [
       "<Figure size 432x288 with 1 Axes>"
      ]
     },
     "metadata": {
      "needs_background": "light"
     },
     "output_type": "display_data"
    }
   ],
   "source": [
    "from fastai.callback import schedule\n",
    "\n",
    "lr_min, lr_steep = learn.lr_find()\n",
    "\n",
    "print('Learning rate with the minimum loss:', lr_min)\n",
    "print('Learning rate with the steepest gradient:', lr_steep)"
   ]
  },
  {
   "cell_type": "markdown",
   "metadata": {},
   "source": [
    "Now we want to run the training!\n",
    "\n",
    "User-chosen variables:\n",
    "- n_epoch: The number of epochs, i.e how many times the to run through all of the training data once (i.e the 1266046 entries, see cell 2)\n",
    "- lr: The learning rate. Either choose lr_min, lr_steep from above or set your own.\n"
   ]
  },
  {
   "cell_type": "code",
   "execution_count": 99,
   "metadata": {},
   "outputs": [
    {
     "name": "stdout",
     "output_type": "stream",
     "text": [
      "[0, 2.7782981395721436, 0.7208366394042969, '00:00']\n",
      "[0, 2.7782981395721436, 0.7208366394042969, '00:00']\n",
      "[1, 0.9420218467712402, 0.2162412703037262, '00:00']\n",
      "[1, 0.9420218467712402, 0.2162412703037262, '00:00']\n",
      "[2, 0.4442550241947174, 0.20185068249702454, '00:00']\n",
      "[2, 0.4442550241947174, 0.20185068249702454, '00:00']\n",
      "[3, 0.2854906916618347, 0.2023487687110901, '00:00']\n",
      "[3, 0.2854906916618347, 0.2023487687110901, '00:00']\n",
      "[4, 0.23252491652965546, 0.2009800523519516, '00:00']\n",
      "[4, 0.23252491652965546, 0.2009800523519516, '00:00']\n",
      "[5, 0.21543753147125244, 0.20296138525009155, '00:00']\n",
      "[5, 0.21543753147125244, 0.20296138525009155, '00:00']\n",
      "[6, 0.20917940139770508, 0.20089146494865417, '00:00']\n",
      "[6, 0.20917940139770508, 0.20089146494865417, '00:00']\n",
      "[7, 0.20594920217990875, 0.20289982855319977, '00:00']\n",
      "[7, 0.20594920217990875, 0.20289982855319977, '00:00']\n",
      "[8, 0.20469504594802856, 0.18257181346416473, '00:00']\n",
      "[8, 0.20469504594802856, 0.18257181346416473, '00:00']\n",
      "[9, 0.16728593409061432, 0.11755643784999847, '00:00']\n",
      "[9, 0.16728593409061432, 0.11755643784999847, '00:00']\n",
      "[10, 0.13289813697338104, 0.11357830464839935, '00:00']\n",
      "[10, 0.13289813697338104, 0.11357830464839935, '00:00']\n",
      "[11, 0.12720678746700287, 0.24731934070587158, '00:00']\n",
      "[11, 0.12720678746700287, 0.24731934070587158, '00:00']\n",
      "[12, 0.11945436894893646, 0.06940630078315735, '00:00']\n",
      "[12, 0.11945436894893646, 0.06940630078315735, '00:00']\n",
      "[13, 0.1269020289182663, 0.10832134634256363, '00:00']\n",
      "[13, 0.1269020289182663, 0.10832134634256363, '00:00']\n",
      "[14, 0.10751313716173172, 0.0887439101934433, '00:00']\n",
      "[14, 0.10751313716173172, 0.0887439101934433, '00:00']\n",
      "[15, 0.0866132527589798, 0.06866449117660522, '00:00']\n",
      "[15, 0.0866132527589798, 0.06866449117660522, '00:00']\n",
      "[16, 0.06972493976354599, 0.0338369682431221, '00:00']\n",
      "[16, 0.06972493976354599, 0.0338369682431221, '00:00']\n",
      "[17, 0.059257764369249344, 0.05011363327503204, '00:00']\n",
      "[17, 0.059257764369249344, 0.05011363327503204, '00:00']\n",
      "[18, 0.0642998144030571, 0.04638770595192909, '00:00']\n",
      "[18, 0.0642998144030571, 0.04638770595192909, '00:00']\n",
      "[19, 0.05229141563177109, 0.03384377434849739, '00:00']\n",
      "[19, 0.05229141563177109, 0.03384377434849739, '00:00']\n",
      "[20, 0.05609726905822754, 0.08089914172887802, '00:00']\n",
      "[20, 0.05609726905822754, 0.08089914172887802, '00:00']\n",
      "[21, 0.04984435811638832, 0.036190636456012726, '00:00']\n",
      "[21, 0.04984435811638832, 0.036190636456012726, '00:00']\n",
      "[22, 0.06333592534065247, 0.09321881830692291, '00:00']\n",
      "[22, 0.06333592534065247, 0.09321881830692291, '00:00']\n",
      "[23, 0.05415991693735123, 0.058938782662153244, '00:00']\n",
      "[23, 0.05415991693735123, 0.058938782662153244, '00:00']\n",
      "[24, 0.04814273118972778, 0.045525021851062775, '00:00']\n",
      "[24, 0.04814273118972778, 0.045525021851062775, '00:00']\n",
      "[25, 0.051256213337183, 0.06069612503051758, '00:00']\n",
      "[25, 0.051256213337183, 0.06069612503051758, '00:00']\n",
      "[26, 0.05310272052884102, 0.06633133441209793, '00:00']\n",
      "[26, 0.05310272052884102, 0.06633133441209793, '00:00']\n",
      "[27, 0.09032650291919708, 0.0650482252240181, '00:00']\n",
      "[27, 0.09032650291919708, 0.0650482252240181, '00:00']\n",
      "[28, 0.055583469569683075, 0.044610098004341125, '00:00']\n",
      "[28, 0.055583469569683075, 0.044610098004341125, '00:00']\n",
      "[29, 0.04617833346128464, 0.039561014622449875, '00:00']\n",
      "[29, 0.04617833346128464, 0.039561014622449875, '00:00']\n",
      "[30, 0.045694172382354736, 0.034012794494628906, '00:00']\n",
      "[30, 0.045694172382354736, 0.034012794494628906, '00:00']\n",
      "[31, 0.042623817920684814, 0.04660451412200928, '00:00']\n",
      "[31, 0.042623817920684814, 0.04660451412200928, '00:00']\n",
      "[32, 0.04219556227326393, 0.04609242454171181, '00:00']\n",
      "[32, 0.04219556227326393, 0.04609242454171181, '00:00']\n",
      "[33, 0.03849213942885399, 0.024680066853761673, '00:00']\n",
      "[33, 0.03849213942885399, 0.024680066853761673, '00:00']\n",
      "[34, 0.036819037050008774, 0.02446802146732807, '00:00']\n",
      "[34, 0.036819037050008774, 0.02446802146732807, '00:00']\n",
      "[35, 0.03047754615545273, 0.02516426518559456, '00:00']\n",
      "[35, 0.03047754615545273, 0.02516426518559456, '00:00']\n",
      "[36, 0.0348040871322155, 0.10532113164663315, '00:00']\n",
      "[36, 0.0348040871322155, 0.10532113164663315, '00:00']\n",
      "[37, 0.030122317373752594, 0.03898997977375984, '00:00']\n",
      "[37, 0.030122317373752594, 0.03898997977375984, '00:00']\n",
      "[38, 0.024507947266101837, 0.017863724380731583, '00:00']\n",
      "[38, 0.024507947266101837, 0.017863724380731583, '00:00']\n",
      "[39, 0.01987067237496376, 0.010247847996652126, '00:00']\n",
      "[39, 0.01987067237496376, 0.010247847996652126, '00:00']\n",
      "[40, 0.016546625643968582, 0.007152900565415621, '00:00']\n",
      "[40, 0.016546625643968582, 0.007152900565415621, '00:00']\n",
      "[41, 0.014068304561078548, 0.017490901052951813, '00:00']\n",
      "[41, 0.014068304561078548, 0.017490901052951813, '00:00']\n",
      "[42, 0.012326663359999657, 0.013209237717092037, '00:00']\n",
      "[42, 0.012326663359999657, 0.013209237717092037, '00:00']\n",
      "[43, 0.010895092971622944, 0.0069594853557646275, '00:00']\n",
      "[43, 0.010895092971622944, 0.0069594853557646275, '00:00']\n",
      "[44, 0.011383196339011192, 0.008486700244247913, '00:00']\n",
      "[44, 0.011383196339011192, 0.008486700244247913, '00:00']\n",
      "[45, 0.007763606961816549, 0.007333707995712757, '00:00']\n",
      "[45, 0.007763606961816549, 0.007333707995712757, '00:00']\n",
      "[46, 0.011943554505705833, 0.009593619033694267, '00:00']\n",
      "[46, 0.011943554505705833, 0.009593619033694267, '00:00']\n",
      "[47, 0.007350313011556864, 0.01145702600479126, '00:00']\n",
      "[47, 0.007350313011556864, 0.01145702600479126, '00:00']\n",
      "[48, 0.012761018238961697, 0.006643594708293676, '00:00']\n",
      "[48, 0.012761018238961697, 0.006643594708293676, '00:00']\n",
      "[49, 0.007615875918418169, 0.0018210088601335883, '00:00']\n",
      "[49, 0.007615875918418169, 0.0018210088601335883, '00:00']\n",
      "[50, 0.005882542580366135, 0.0017998086987063289, '00:00']\n",
      "[50, 0.005882542580366135, 0.0017998086987063289, '00:00']\n",
      "[51, 0.005814474541693926, 0.007629078347235918, '00:00']\n",
      "[51, 0.005814474541693926, 0.007629078347235918, '00:00']\n",
      "[52, 0.004994967952370644, 0.0018315374618396163, '00:00']\n",
      "[52, 0.004994967952370644, 0.0018315374618396163, '00:00']\n",
      "[53, 0.004781709518283606, 0.00626348378136754, '00:00']\n",
      "[53, 0.004781709518283606, 0.00626348378136754, '00:00']\n",
      "[54, 0.0038129864260554314, 0.013057595118880272, '00:00']\n",
      "[54, 0.0038129864260554314, 0.013057595118880272, '00:00']\n",
      "[55, 0.003519725752994418, 0.004328261129558086, '00:00']\n",
      "[55, 0.003519725752994418, 0.004328261129558086, '00:00']\n",
      "[56, 0.003613486886024475, 0.0053804670460522175, '00:01']\n",
      "[56, 0.003613486886024475, 0.0053804670460522175, '00:01']\n",
      "[57, 0.0030770853627473116, 0.004352071788161993, '00:01']\n",
      "[57, 0.0030770853627473116, 0.004352071788161993, '00:01']\n",
      "[58, 0.0031611549202352762, 0.0015804283320903778, '00:00']\n",
      "[58, 0.0031611549202352762, 0.0015804283320903778, '00:00']\n",
      "[59, 0.0025017031002789736, 0.004649125970900059, '00:00']\n",
      "[59, 0.0025017031002789736, 0.004649125970900059, '00:00']\n",
      "[60, 0.0021322916727513075, 0.0008617163985036314, '00:00']\n",
      "[60, 0.0021322916727513075, 0.0008617163985036314, '00:00']\n",
      "[61, 0.001467431429773569, 0.0005441808025352657, '00:00']\n",
      "[61, 0.001467431429773569, 0.0005441808025352657, '00:00']\n",
      "[62, 0.0017434937180951238, 0.0011744349030777812, '00:00']\n",
      "[62, 0.0017434937180951238, 0.0011744349030777812, '00:00']\n",
      "[63, 0.0011701640905812383, 0.0006107077351771295, '00:00']\n",
      "[63, 0.0011701640905812383, 0.0006107077351771295, '00:00']\n",
      "[64, 0.0013432435225695372, 0.00037274742498993874, '00:00']\n",
      "[64, 0.0013432435225695372, 0.00037274742498993874, '00:00']\n",
      "[65, 0.0011452798498794436, 0.0004815885331481695, '00:00']\n",
      "[65, 0.0011452798498794436, 0.0004815885331481695, '00:00']\n",
      "[66, 0.0011000024387612939, 0.0007502755033783615, '00:00']\n",
      "[66, 0.0011000024387612939, 0.0007502755033783615, '00:00']\n",
      "[67, 0.0008574844687245786, 0.0003903038741555065, '00:00']\n",
      "[67, 0.0008574844687245786, 0.0003903038741555065, '00:00']\n",
      "[68, 0.0008764150552451611, 0.00032208432094193995, '00:00']\n",
      "[68, 0.0008764150552451611, 0.00032208432094193995, '00:00']\n",
      "[69, 0.000689362408593297, 0.0005629172082990408, '00:00']\n",
      "[69, 0.000689362408593297, 0.0005629172082990408, '00:00']\n",
      "[70, 0.0004482586809899658, 0.00024047866463661194, '00:00']\n",
      "[70, 0.0004482586809899658, 0.00024047866463661194, '00:00']\n",
      "[71, 0.0004029862175229937, 0.00025473666028119624, '00:00']\n",
      "[71, 0.0004029862175229937, 0.00025473666028119624, '00:00']\n"
     ]
    },
    {
     "name": "stdout",
     "output_type": "stream",
     "text": [
      "[72, 0.0004064285312779248, 0.0002685945946723223, '00:00']\n",
      "[72, 0.0004064285312779248, 0.0002685945946723223, '00:00']\n",
      "[73, 0.00030759218498133123, 0.00023680740559939295, '00:00']\n",
      "[73, 0.00030759218498133123, 0.00023680740559939295, '00:00']\n",
      "[74, 0.00034667347790673375, 0.0004270822391845286, '00:00']\n",
      "[74, 0.00034667347790673375, 0.0004270822391845286, '00:00']\n",
      "[75, 0.00023770943516865373, 0.00019737795810215175, '00:00']\n",
      "[75, 0.00023770943516865373, 0.00019737795810215175, '00:00']\n",
      "[76, 0.00025223352713510394, 0.0004536822671070695, '00:00']\n",
      "[76, 0.00025223352713510394, 0.0004536822671070695, '00:00']\n",
      "[77, 0.0002173759276047349, 0.00010573335021035746, '00:00']\n",
      "[77, 0.0002173759276047349, 0.00010573335021035746, '00:00']\n",
      "[78, 0.0001440582564100623, 0.00014344669762067497, '00:00']\n",
      "[78, 0.0001440582564100623, 0.00014344669762067497, '00:00']\n",
      "[79, 0.00014365573588293046, 0.0002237451117252931, '00:00']\n",
      "[79, 0.00014365573588293046, 0.0002237451117252931, '00:00']\n",
      "[80, 0.00011372927838237956, 6.248803401831537e-05, '00:00']\n",
      "[80, 0.00011372927838237956, 6.248803401831537e-05, '00:00']\n",
      "[81, 9.754773782333359e-05, 7.885657396400347e-05, '00:00']\n",
      "[81, 9.754773782333359e-05, 7.885657396400347e-05, '00:00']\n",
      "[82, 9.971563122235239e-05, 0.00015073432587087154, '00:00']\n",
      "[82, 9.971563122235239e-05, 0.00015073432587087154, '00:00']\n",
      "[83, 9.895544644678012e-05, 7.669742626603693e-05, '00:00']\n",
      "[83, 9.895544644678012e-05, 7.669742626603693e-05, '00:00']\n",
      "[84, 7.088058191584423e-05, 5.856940697412938e-05, '00:00']\n",
      "[84, 7.088058191584423e-05, 5.856940697412938e-05, '00:00']\n",
      "[85, 6.259271322051063e-05, 6.0789083363488317e-05, '00:00']\n",
      "[85, 6.259271322051063e-05, 6.0789083363488317e-05, '00:00']\n",
      "[86, 5.5650521971983835e-05, 4.733710375148803e-05, '00:00']\n",
      "[86, 5.5650521971983835e-05, 4.733710375148803e-05, '00:00']\n",
      "[87, 5.593428068095818e-05, 5.6662011047592387e-05, '00:00']\n",
      "[87, 5.593428068095818e-05, 5.6662011047592387e-05, '00:00']\n",
      "[88, 4.715107206720859e-05, 4.558678483590484e-05, '00:00']\n",
      "[88, 4.715107206720859e-05, 4.558678483590484e-05, '00:00']\n",
      "[89, 4.783771146321669e-05, 5.115181193104945e-05, '00:00']\n",
      "[89, 4.783771146321669e-05, 5.115181193104945e-05, '00:00']\n",
      "[90, 4.320037260185927e-05, 4.188777529634535e-05, '00:00']\n",
      "[90, 4.320037260185927e-05, 4.188777529634535e-05, '00:00']\n",
      "[91, 3.8991063775029033e-05, 4.503857417148538e-05, '00:00']\n",
      "[91, 3.8991063775029033e-05, 4.503857417148538e-05, '00:00']\n",
      "[92, 3.722740802913904e-05, 3.727597868419252e-05, '00:00']\n",
      "[92, 3.722740802913904e-05, 3.727597868419252e-05, '00:00']\n",
      "[93, 3.4895849239546806e-05, 3.713298065122217e-05, '00:00']\n",
      "[93, 3.4895849239546806e-05, 3.713298065122217e-05, '00:00']\n",
      "[94, 3.3699365303618833e-05, 3.6292229196988046e-05, '00:00']\n",
      "[94, 3.3699365303618833e-05, 3.6292229196988046e-05, '00:00']\n",
      "[95, 3.228033165214583e-05, 3.5383189242566004e-05, '00:00']\n",
      "[95, 3.228033165214583e-05, 3.5383189242566004e-05, '00:00']\n",
      "[96, 3.110526449745521e-05, 3.4458797017578036e-05, '00:00']\n",
      "[96, 3.110526449745521e-05, 3.4458797017578036e-05, '00:00']\n",
      "[97, 3.0626975785708055e-05, 3.4366770705673844e-05, '00:00']\n",
      "[97, 3.0626975785708055e-05, 3.4366770705673844e-05, '00:00']\n",
      "[98, 3.0106870326562785e-05, 3.412316436879337e-05, '00:00']\n",
      "[98, 3.0106870326562785e-05, 3.412316436879337e-05, '00:00']\n",
      "[99, 2.9756640287814662e-05, 3.4035241696983576e-05, '00:00']\n",
      "[99, 2.9756640287814662e-05, 3.4035241696983576e-05, '00:00']\n",
      "Training took 64.78734909999912 seconds\n"
     ]
    }
   ],
   "source": [
    "import time\n",
    "\n",
    "start = time.perf_counter() # Starts timer\n",
    "learn.fit_one_cycle(100, lr_min)\n",
    "end = time.perf_counter() # Ends timer\n",
    "delta_t = end - start\n",
    "print('Training took', delta_t, 'seconds')"
   ]
  },
  {
   "cell_type": "markdown",
   "metadata": {},
   "source": [
    "Then we plot the loss as a function of batches and epochs to check if we reach a plateau."
   ]
  },
  {
   "cell_type": "code",
   "execution_count": 100,
   "metadata": {},
   "outputs": [
    {
     "data": {
      "image/png": "[encoded data removed]",
      "text/plain": [
       "<Figure size 432x288 with 1 Axes>"
      ]
     },
     "metadata": {
      "needs_background": "light"
     },
     "output_type": "display_data"
    }
   ],
   "source": [
    "recorder.plot_loss()"
   ]
  },
  {
   "cell_type": "markdown",
   "metadata": {},
   "source": [
    "Then we evaluate the MSE on this network - it should be of the order of 0.001 or less if all has gone well...if it has not trained as well (note the pesky 0-mass peak above...) then it's going to be a bit higher."
   ]
  },
  {
   "cell_type": "code",
   "execution_count": 101,
   "metadata": {},
   "outputs": [
    {
     "data": {
      "text/plain": [
       "(#1) [3.4035241696983576e-05]"
      ]
     },
     "execution_count": 101,
     "metadata": {},
     "output_type": "execute_result"
    }
   ],
   "source": [
    "learn.validate()"
   ]
  },
  {
   "cell_type": "markdown",
   "metadata": {},
   "source": [
    "Let's plot all of this, with ratios (thanks to code by Erik Wallin)"
   ]
  },
  {
   "cell_type": "markdown",
   "metadata": {},
   "source": [
    "## Plotting the outputs of the network"
   ]
  },
  {
   "cell_type": "markdown",
   "metadata": {},
   "source": [
    "Lazy-save of our output files (they'll also be on screen)"
   ]
  },
  {
   "cell_type": "code",
   "execution_count": 102,
   "metadata": {},
   "outputs": [],
   "source": [
    "import os\n",
    "save_dir = \"plotOutput\"\n",
    "if not os.path.exists(save_dir):\n",
    "    os.makedirs(save_dir)"
   ]
  },
  {
   "cell_type": "markdown",
   "metadata": {},
   "source": [
    "A function in case we want to un-normalize and get back to physical quantities..."
   ]
  },
  {
   "cell_type": "code",
   "execution_count": 103,
   "metadata": {},
   "outputs": [],
   "source": [
    "def custom_unnormalize(df):\n",
    "    df['eta'] = df['eta'] * 5\n",
    "    df['phi'] = df['phi'] * 3\n",
    "    df['E'] = 10**df['E']\n",
    "    #df['m'] = 10**df['m']\n",
    "    df['pt'] = 10**(df['pt'])\n",
    "    return df"
   ]
  },
  {
   "cell_type": "markdown",
   "metadata": {},
   "source": [
    "Make the histograms from the dataset..."
   ]
  },
  {
   "cell_type": "code",
   "execution_count": 104,
   "metadata": {},
   "outputs": [
    {
     "data": {
      "image/png": "[encoded data removed]",
      "text/plain": [
       "<Figure size 432x288 with 1 Axes>"
      ]
     },
     "metadata": {
      "needs_background": "light"
     },
     "output_type": "display_data"
    },
    {
     "data": {
      "image/png": "[encoded data removed]",
      "text/plain": [
       "<Figure size 432x288 with 1 Axes>"
      ]
     },
     "metadata": {
      "needs_background": "light"
     },
     "output_type": "display_data"
    },
    {
     "data": {
      "image/png": "[encoded data removed]",
      "text/plain": [
       "<Figure size 432x288 with 1 Axes>"
      ]
     },
     "metadata": {
      "needs_background": "light"
     },
     "output_type": "display_data"
    },
    {
     "data": {
      "image/png": "[encoded data removed]",
      "text/plain": [
       "<Figure size 432x288 with 1 Axes>"
      ]
     },
     "metadata": {
      "needs_background": "light"
     },
     "output_type": "display_data"
    }
   ],
   "source": [
    "import numpy as np\n",
    "\n",
    "plt.close('all')\n",
    "unit_list = ['[GeV]', '[rad]', '[rad]', '[GeV]']\n",
    "variable_list = [r'$p_T$', r'$\\eta$', r'$\\phi$', r'$E$']\n",
    "line_style = ['--', '-']\n",
    "colors = ['orange', 'c']\n",
    "markers = ['*', 's']\n",
    "\n",
    "model.to('cpu')\n",
    "\n",
    "save = False # Option to save figure\n",
    "\n",
    "# Histograms\n",
    "idxs = (0, 100000)  # Choose events to compare\n",
    "data = torch.tensor(test[idxs[0]:idxs[1]].values, dtype=torch.float)\n",
    "#data = torch.tensor(test[idxs[0]:idxs[1]].values, dtype=torch.float).double()\n",
    "pred = model(data)\n",
    "pred = pred.detach().numpy()\n",
    "data = data.detach().numpy()\n",
    "\n",
    "data_df = pd.DataFrame(data, columns=test.columns)\n",
    "pred_df = pd.DataFrame(pred, columns=test.columns)\n",
    "\n",
    "unnormalized_data_df = custom_unnormalize(data_df)\n",
    "unnormalized_pred_df = custom_unnormalize(pred_df)    \n",
    "    \n",
    "alph = 0.8\n",
    "n_bins = 100\n",
    "for kk in np.arange(4):\n",
    "    plt.figure()\n",
    "    n_hist_data, bin_edges, _ = plt.hist(data[:, kk], color=colors[1], label='Input', alpha=1, bins=n_bins)\n",
    "    n_hist_pred, _, _ = plt.hist(pred[:, kk], color=colors[0], label='Output', alpha=alph, bins=bin_edges)\n",
    "    plt.suptitle(test.columns[kk])\n",
    "    plt.xlabel(test.columns[kk])\n",
    "    plt.ylabel('Number of events')\n",
    "    # ms.sciy()\n",
    "    plt.yscale('log')\n",
    "    if save:\n",
    "        plt.savefig(os.path.join(save_dir,test.columns[kk]+'.png'))\n",
    "    plt.legend()"
   ]
  },
  {
   "cell_type": "code",
   "execution_count": 105,
   "metadata": {},
   "outputs": [],
   "source": [
    "def getRatio(bin1,bin2):\n",
    "    bins = []\n",
    "    for b1,b2 in zip(bin1,bin2):\n",
    "        if b1==0 and b2==0:\n",
    "            bins.append(0.)\n",
    "        elif b2==0:\n",
    "            bins.append(None)\n",
    "        else:\n",
    "            bins.append((float(b2)-float(b1))/b1)\n",
    "    return bins   \n",
    "\n",
    "rat = getRatio(n_hist_data,n_hist_pred)\n",
    "#print(rat)"
   ]
  },
  {
   "cell_type": "code",
   "execution_count": null,
   "metadata": {},
   "outputs": [],
   "source": []
  }
 ],
 "metadata": {
  "kernelspec": {
   "display_name": "Python 3",
   "language": "python",
   "name": "python3"
  },
  "language_info": {
   "codemirror_mode": {
    "name": "ipython",
    "version": 3
   },
   "file_extension": ".py",
   "mimetype": "text/x-python",
   "name": "python",
   "nbconvert_exporter": "python",
   "pygments_lexer": "ipython3",
   "version": "3.8.5"
  }
 },
 "nbformat": 4,
 "nbformat_minor": 4
}
